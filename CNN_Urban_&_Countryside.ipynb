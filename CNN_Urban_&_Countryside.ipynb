{
  "nbformat": 4,
  "nbformat_minor": 0,
  "metadata": {
    "colab": {
      "provenance": []
    },
    "kernelspec": {
      "name": "python3",
      "display_name": "Python 3"
    },
    "language_info": {
      "name": "python"
    }
  },
  "cells": [
    {
      "cell_type": "code",
      "execution_count": null,
      "metadata": {
        "id": "WTuCGuKOdhWV",
        "colab": {
          "base_uri": "https://localhost:8080/"
        },
        "outputId": "e3e68939-65c0-4ae8-ebcc-fdde93eacaa8"
      },
      "outputs": [
        {
          "output_type": "stream",
          "name": "stdout",
          "text": [
            "Mounted at /content/drive/\n"
          ]
        }
      ],
      "source": [
        "#My dataset is available in googledrive; so I am accessing my drive from colab\n",
        "from google.colab import drive\n",
        "drive.mount('/content/drive/', force_remount=True)\n",
        "#Once this is executed, you will see your drive appearing on the left hand side"
      ]
    },
    {
      "cell_type": "code",
      "source": [
        "# Define paths to the dataset\n",
        "train_dir = '/content/drive/MyDrive/ImageDst/Train'  # Update with your actual path\n",
        "test_dir = '/content/drive/MyDrive/ImageDst/Test'    # Update with your actual path"
      ],
      "metadata": {
        "id": "aPym3EH-ShoE"
      },
      "execution_count": null,
      "outputs": []
    },
    {
      "cell_type": "code",
      "source": [
        "import os\n",
        "print(len(os.listdir('/content/drive/MyDrive/ImageDst/Train/Urban')))\n",
        "print(len(os.listdir('/content/drive/MyDrive/ImageDst/Train/CountrySide')))\n",
        "print(len(os.listdir('/content/drive/MyDrive/ImageDst/Test/Urban')))\n",
        "print(len(os.listdir('/content/drive/MyDrive/ImageDst/Test/CountrySide')))"
      ],
      "metadata": {
        "id": "vX-addKxe-3m",
        "colab": {
          "base_uri": "https://localhost:8080/"
        },
        "outputId": "20526da1-d6d0-49be-95d2-5edf6569c100"
      },
      "execution_count": null,
      "outputs": [
        {
          "output_type": "stream",
          "name": "stdout",
          "text": [
            "269\n",
            "246\n",
            "48\n",
            "48\n"
          ]
        }
      ]
    },
    {
      "cell_type": "code",
      "source": [
        "import tensorflow as tf\n",
        "from tensorflow.keras.preprocessing.image import ImageDataGenerator\n",
        "\n",
        "# Create ImageDataGenerator for training set\n",
        "train_datagen = ImageDataGenerator(\n",
        "    rescale=1./255,\n",
        "    validation_split=0.2  # Split 20% of the images for validation\n",
        ")\n",
        "\n",
        "# Load and prepare training data\n",
        "train_data = train_datagen.flow_from_directory(\n",
        "    train_dir,\n",
        "    target_size=(256,256),\n",
        "    batch_size=32,\n",
        "    class_mode='binary',  # 'binary' for binary classification (cats vs. dogs)\n",
        "    subset='training'  # Specify 'training' for the training set\n",
        ")\n",
        "\n",
        "# Create ImageDataGenerator for validation set\n",
        "validation_datagen = ImageDataGenerator(\n",
        "    rescale=1./255,\n",
        "    validation_split=0.2  # Note: Using the same validation split as in the training set\n",
        ")\n",
        "\n",
        "# Load and prepare validation data\n",
        "validation_data = validation_datagen.flow_from_directory(\n",
        "    train_dir,\n",
        "    target_size=(256,256),\n",
        "    batch_size=32,\n",
        "    class_mode='binary',\n",
        "    subset='validation'  # Specify 'validation' for the validation set\n",
        ")"
      ],
      "metadata": {
        "colab": {
          "base_uri": "https://localhost:8080/"
        },
        "id": "49GfYle1UWpE",
        "outputId": "9676250c-c03b-40d5-f38b-73ad80771eee"
      },
      "execution_count": null,
      "outputs": [
        {
          "output_type": "stream",
          "name": "stdout",
          "text": [
            "Found 413 images belonging to 2 classes.\n",
            "Found 102 images belonging to 2 classes.\n"
          ]
        }
      ]
    },
    {
      "cell_type": "code",
      "source": [
        "from tensorflow import keras\n",
        "from keras import Sequential\n",
        "from keras.layers import Dense,Conv2D,MaxPooling2D,Flatten,BatchNormalization,UpSampling2D, Dropout"
      ],
      "metadata": {
        "id": "Cn5Sl6C0UjY9"
      },
      "execution_count": null,
      "outputs": []
    },
    {
      "cell_type": "code",
      "source": [
        "# create CNN model\n",
        "\n",
        "model = Sequential()\n",
        "\n",
        "model.add(Conv2D(32,kernel_size=(3,3),padding='valid',activation='relu',input_shape=(256,256,3)))  # 32 filters\n",
        "#model.add(BatchNormalization())  # added to reduce overfitting\n",
        "model.add(MaxPooling2D(pool_size=(2,2),strides=2,padding='valid'))\n",
        "\n",
        "model.add(Conv2D(64,kernel_size=(3,3),padding='valid',activation='relu'))\n",
        "#model.add(BatchNormalization())  # added to reduce overfitting\n",
        "model.add(MaxPooling2D(pool_size=(2,2),strides=2,padding='valid'))\n",
        "\n",
        "model.add(Conv2D(128,kernel_size=(3,3),padding='valid',activation='relu'))\n",
        "#model.add(BatchNormalization())  # added to reduce overfitting\n",
        "model.add(MaxPooling2D(pool_size=(2,2),strides=2,padding='valid'))\n",
        "\n",
        "model.add(Flatten())\n",
        "\n",
        "model.add(Dense(128,activation='relu')) #feature reduction\n",
        "#model.add(Dropout(0.1))  # added to reduce overfitting\n",
        "model.add(Dense(64,activation='relu'))\n",
        "#model.add(Dropout(0.1))  # added to reduce overfitting\n",
        "model.add(Dense(1,activation='sigmoid'))  #output layer"
      ],
      "metadata": {
        "id": "gBgGS7mVUlg6"
      },
      "execution_count": null,
      "outputs": []
    },
    {
      "cell_type": "code",
      "source": [
        "from keras.optimizers import Adam\n",
        "model.compile(optimizer=Adam(learning_rate=0.001),loss='binary_crossentropy',metrics=['accuracy'])\n",
        "#binary_crossentropy - binary classification"
      ],
      "metadata": {
        "id": "HbhbBFY5UoMz"
      },
      "execution_count": null,
      "outputs": []
    },
    {
      "cell_type": "code",
      "source": [
        "history = model.fit(train_data, epochs=30, validation_data=validation_data)"
      ],
      "metadata": {
        "colab": {
          "base_uri": "https://localhost:8080/"
        },
        "id": "wFLJR9NxUr-Q",
        "outputId": "e899b2a9-010d-4ddf-dade-21e19fa7a80c"
      },
      "execution_count": null,
      "outputs": [
        {
          "output_type": "stream",
          "name": "stdout",
          "text": [
            "Epoch 1/30\n",
            "13/13 [==============================] - 144s 11s/step - loss: 0.7811 - accuracy: 0.6780 - val_loss: 0.4487 - val_accuracy: 0.8039\n",
            "Epoch 2/30\n",
            "13/13 [==============================] - 94s 7s/step - loss: 0.2856 - accuracy: 0.9056 - val_loss: 0.4809 - val_accuracy: 0.8529\n",
            "Epoch 3/30\n",
            "13/13 [==============================] - 95s 7s/step - loss: 0.2360 - accuracy: 0.9080 - val_loss: 0.3775 - val_accuracy: 0.8627\n",
            "Epoch 4/30\n",
            "13/13 [==============================] - 94s 7s/step - loss: 0.2094 - accuracy: 0.9298 - val_loss: 0.4023 - val_accuracy: 0.8627\n",
            "Epoch 5/30\n",
            "13/13 [==============================] - 95s 7s/step - loss: 0.1557 - accuracy: 0.9298 - val_loss: 0.4284 - val_accuracy: 0.8922\n",
            "Epoch 6/30\n",
            "13/13 [==============================] - 95s 7s/step - loss: 0.1316 - accuracy: 0.9467 - val_loss: 0.5320 - val_accuracy: 0.8627\n",
            "Epoch 7/30\n",
            "13/13 [==============================] - 97s 7s/step - loss: 0.0921 - accuracy: 0.9734 - val_loss: 0.6033 - val_accuracy: 0.8431\n",
            "Epoch 8/30\n",
            "13/13 [==============================] - 95s 7s/step - loss: 0.0436 - accuracy: 0.9903 - val_loss: 0.6787 - val_accuracy: 0.8824\n",
            "Epoch 9/30\n",
            "13/13 [==============================] - 96s 7s/step - loss: 0.0257 - accuracy: 0.9903 - val_loss: 0.5291 - val_accuracy: 0.8824\n",
            "Epoch 10/30\n",
            "13/13 [==============================] - 95s 7s/step - loss: 0.0117 - accuracy: 0.9952 - val_loss: 0.6560 - val_accuracy: 0.8725\n",
            "Epoch 11/30\n",
            "13/13 [==============================] - 94s 7s/step - loss: 0.0040 - accuracy: 1.0000 - val_loss: 0.6331 - val_accuracy: 0.8725\n",
            "Epoch 12/30\n",
            "13/13 [==============================] - 96s 7s/step - loss: 0.0018 - accuracy: 1.0000 - val_loss: 0.7507 - val_accuracy: 0.8725\n",
            "Epoch 13/30\n",
            "13/13 [==============================] - 95s 7s/step - loss: 8.3725e-04 - accuracy: 1.0000 - val_loss: 0.9152 - val_accuracy: 0.8725\n",
            "Epoch 14/30\n",
            "13/13 [==============================] - 94s 7s/step - loss: 6.1684e-04 - accuracy: 1.0000 - val_loss: 0.8359 - val_accuracy: 0.8725\n",
            "Epoch 15/30\n",
            "13/13 [==============================] - 95s 7s/step - loss: 3.9417e-04 - accuracy: 1.0000 - val_loss: 0.9373 - val_accuracy: 0.8725\n",
            "Epoch 16/30\n",
            "13/13 [==============================] - 94s 7s/step - loss: 2.8524e-04 - accuracy: 1.0000 - val_loss: 1.0181 - val_accuracy: 0.8725\n",
            "Epoch 17/30\n",
            "13/13 [==============================] - 93s 7s/step - loss: 2.3223e-04 - accuracy: 1.0000 - val_loss: 1.0486 - val_accuracy: 0.8725\n",
            "Epoch 18/30\n",
            "13/13 [==============================] - 93s 7s/step - loss: 1.7334e-04 - accuracy: 1.0000 - val_loss: 0.9507 - val_accuracy: 0.8725\n",
            "Epoch 19/30\n",
            "13/13 [==============================] - 93s 7s/step - loss: 1.7015e-04 - accuracy: 1.0000 - val_loss: 1.0464 - val_accuracy: 0.8725\n",
            "Epoch 20/30\n",
            "13/13 [==============================] - 91s 7s/step - loss: 1.2654e-04 - accuracy: 1.0000 - val_loss: 1.0263 - val_accuracy: 0.8725\n",
            "Epoch 21/30\n",
            "13/13 [==============================] - 101s 7s/step - loss: 1.0555e-04 - accuracy: 1.0000 - val_loss: 1.1312 - val_accuracy: 0.8725\n",
            "Epoch 22/30\n",
            "13/13 [==============================] - 91s 7s/step - loss: 9.7176e-05 - accuracy: 1.0000 - val_loss: 1.0525 - val_accuracy: 0.8725\n",
            "Epoch 23/30\n",
            "13/13 [==============================] - 92s 7s/step - loss: 8.0812e-05 - accuracy: 1.0000 - val_loss: 1.1858 - val_accuracy: 0.8725\n",
            "Epoch 24/30\n",
            "13/13 [==============================] - 92s 7s/step - loss: 6.0008e-05 - accuracy: 1.0000 - val_loss: 1.1949 - val_accuracy: 0.8725\n",
            "Epoch 25/30\n",
            "13/13 [==============================] - 93s 7s/step - loss: 5.2645e-05 - accuracy: 1.0000 - val_loss: 1.1636 - val_accuracy: 0.8725\n",
            "Epoch 26/30\n",
            "13/13 [==============================] - 94s 7s/step - loss: 4.4299e-05 - accuracy: 1.0000 - val_loss: 1.2439 - val_accuracy: 0.8725\n",
            "Epoch 27/30\n",
            "13/13 [==============================] - 104s 8s/step - loss: 3.8838e-05 - accuracy: 1.0000 - val_loss: 1.2278 - val_accuracy: 0.8725\n",
            "Epoch 28/30\n",
            "13/13 [==============================] - 94s 7s/step - loss: 3.3734e-05 - accuracy: 1.0000 - val_loss: 1.2647 - val_accuracy: 0.8725\n",
            "Epoch 29/30\n",
            "13/13 [==============================] - 93s 7s/step - loss: 3.1060e-05 - accuracy: 1.0000 - val_loss: 1.2327 - val_accuracy: 0.8725\n",
            "Epoch 30/30\n",
            "13/13 [==============================] - 93s 7s/step - loss: 2.6877e-05 - accuracy: 1.0000 - val_loss: 1.2682 - val_accuracy: 0.8725\n"
          ]
        }
      ]
    },
    {
      "cell_type": "code",
      "source": [
        "import matplotlib.pyplot as plt\n",
        "\n",
        "plt.plot(history.history['accuracy'],color='red',label='train')\n",
        "plt.plot(history.history['val_accuracy'],color='blue',label='validation')\n",
        "plt.legend()\n",
        "plt.show()"
      ],
      "metadata": {
        "colab": {
          "base_uri": "https://localhost:8080/",
          "height": 430
        },
        "id": "Rm6RoJH5hOyk",
        "outputId": "21dc545b-5deb-4fbe-b6f1-5088a780d0a3"
      },
      "execution_count": null,
      "outputs": [
        {
          "output_type": "display_data",
          "data": {
            "text/plain": [
              "<Figure size 640x480 with 1 Axes>"
            ],
            "image/png": "[encoded data removed]"
          },
          "metadata": {}
        }
      ]
    },
    {
      "cell_type": "code",
      "source": [
        "plt.plot(history.history['loss'],color='red',label='train')\n",
        "plt.plot(history.history['val_loss'],color='blue',label='validation')\n",
        "plt.legend()\n",
        "plt.show()"
      ],
      "metadata": {
        "colab": {
          "base_uri": "https://localhost:8080/",
          "height": 430
        },
        "id": "0iQxTWBQha7m",
        "outputId": "2d8b7d8e-879c-4ddf-dae2-35161f31b27a"
      },
      "execution_count": null,
      "outputs": [
        {
          "output_type": "display_data",
          "data": {
            "text/plain": [
              "<Figure size 640x480 with 1 Axes>"
            ],
            "image/png": "[encoded data removed]"
          },
          "metadata": {}
        }
      ]
    },
    {
      "cell_type": "code",
      "source": [
        "test_datagen = ImageDataGenerator(rescale=1./255)\n",
        "test_data = test_datagen.flow_from_directory(\n",
        "    test_dir,\n",
        "    target_size=(256,256),\n",
        "    batch_size=32,\n",
        "    class_mode='binary'\n",
        ")"
      ],
      "metadata": {
        "colab": {
          "base_uri": "https://localhost:8080/"
        },
        "id": "MAEeuJVHhfAA",
        "outputId": "a585b4c6-5d06-48cc-820f-86408e25ef5e"
      },
      "execution_count": null,
      "outputs": [
        {
          "output_type": "stream",
          "name": "stdout",
          "text": [
            "Found 96 images belonging to 2 classes.\n"
          ]
        }
      ]
    },
    {
      "cell_type": "code",
      "source": [
        "#predict the test data\n",
        "predictions = model.predict(test_data)\n",
        "print(predictions)"
      ],
      "metadata": {
        "colab": {
          "base_uri": "https://localhost:8080/"
        },
        "id": "HZ4AD40Dhi2F",
        "outputId": "b3b0c85b-0ca4-4437-c3c1-3ced1db02c98"
      },
      "execution_count": null,
      "outputs": [
        {
          "output_type": "stream",
          "name": "stdout",
          "text": [
            "3/3 [==============================] - 33s 14s/step\n",
            "[[1.7157300e-04]\n",
            " [5.1284803e-07]\n",
            " [1.0000000e+00]\n",
            " [2.1285904e-09]\n",
            " [2.0948875e-08]\n",
            " [9.9986869e-01]\n",
            " [1.1250824e-09]\n",
            " [6.3171979e-10]\n",
            " [9.9999928e-01]\n",
            " [9.9980628e-01]\n",
            " [4.0022738e-07]\n",
            " [9.9999809e-01]\n",
            " [2.2937286e-06]\n",
            " [1.0000000e+00]\n",
            " [2.1907354e-05]\n",
            " [1.0000000e+00]\n",
            " [1.0000000e+00]\n",
            " [1.4967514e-05]\n",
            " [9.9987686e-01]\n",
            " [9.9999434e-01]\n",
            " [9.9999988e-01]\n",
            " [1.6615433e-06]\n",
            " [5.6184513e-06]\n",
            " [4.4019678e-01]\n",
            " [1.0000000e+00]\n",
            " [2.7143570e-02]\n",
            " [9.9997509e-01]\n",
            " [1.0000000e+00]\n",
            " [2.0666373e-09]\n",
            " [7.7261188e-07]\n",
            " [1.0000000e+00]\n",
            " [1.9557528e-04]\n",
            " [1.0000000e+00]\n",
            " [9.9999988e-01]\n",
            " [8.6535129e-10]\n",
            " [1.0000000e+00]\n",
            " [9.9999976e-01]\n",
            " [1.0000000e+00]\n",
            " [1.9407068e-10]\n",
            " [6.0216179e-03]\n",
            " [9.9999970e-01]\n",
            " [1.0000000e+00]\n",
            " [1.7239478e-04]\n",
            " [1.0000000e+00]\n",
            " [9.9958788e-09]\n",
            " [1.5987784e-05]\n",
            " [7.1781267e-07]\n",
            " [9.9989039e-01]\n",
            " [2.1374237e-06]\n",
            " [3.5685821e-09]\n",
            " [9.9999982e-01]\n",
            " [1.0000000e+00]\n",
            " [9.9965078e-01]\n",
            " [3.3344037e-03]\n",
            " [2.7476766e-11]\n",
            " [9.9999928e-01]\n",
            " [9.9999982e-01]\n",
            " [9.1490094e-08]\n",
            " [1.0000000e+00]\n",
            " [8.5385414e-05]\n",
            " [1.0000000e+00]\n",
            " [7.3373170e-15]\n",
            " [9.9142957e-01]\n",
            " [1.3960169e-09]\n",
            " [1.4474835e-09]\n",
            " [3.5804246e-09]\n",
            " [2.0559955e-05]\n",
            " [1.0000000e+00]\n",
            " [9.9999911e-01]\n",
            " [9.9999243e-01]\n",
            " [9.9999940e-01]\n",
            " [7.2130179e-06]\n",
            " [9.9999607e-01]\n",
            " [9.9995172e-01]\n",
            " [1.6494646e-10]\n",
            " [3.4587517e-06]\n",
            " [9.9990422e-01]\n",
            " [9.9999970e-01]\n",
            " [5.5524055e-08]\n",
            " [9.9999887e-01]\n",
            " [4.3507864e-10]\n",
            " [9.9998897e-01]\n",
            " [9.9998766e-01]\n",
            " [7.1550725e-04]\n",
            " [1.0000000e+00]\n",
            " [1.0098169e-12]\n",
            " [3.6448579e-12]\n",
            " [1.2350679e-02]\n",
            " [9.9999946e-01]\n",
            " [1.0000000e+00]\n",
            " [1.0000000e+00]\n",
            " [9.9999708e-01]\n",
            " [1.0000000e+00]\n",
            " [1.0000000e+00]\n",
            " [1.0000000e+00]\n",
            " [8.0840727e-03]]\n"
          ]
        }
      ]
    },
    {
      "cell_type": "code",
      "source": [
        "len(predictions)"
      ],
      "metadata": {
        "colab": {
          "base_uri": "https://localhost:8080/"
        },
        "id": "Y42np91Eh0kP",
        "outputId": "8a83db82-7fa6-4530-caaa-30542440de9d"
      },
      "execution_count": null,
      "outputs": [
        {
          "output_type": "execute_result",
          "data": {
            "text/plain": [
              "96"
            ]
          },
          "metadata": {},
          "execution_count": 19
        }
      ]
    },
    {
      "cell_type": "code",
      "source": [
        "from sklearn.metrics import confusion_matrix, classification_report\n",
        "\n",
        "# Assuming you have ground truth labels (true_labels) and predicted labels (predictions)\n",
        "true_labels = test_data.classes\n",
        "predicted_labels = (predictions > 0.5).astype(int)  # Adjust the threshold as needed\n",
        "\n",
        "# Calculate confusion matrix\n",
        "cm = confusion_matrix(true_labels, predicted_labels)\n",
        "\n",
        "# Print confusion matrix\n",
        "print(\"Confusion Matrix:\")\n",
        "print(cm)\n",
        "\n",
        "# Print classification report\n",
        "print(\"Classification Report:\")\n",
        "print(classification_report(true_labels, predicted_labels))"
      ],
      "metadata": {
        "id": "BBDyFXp_h37k",
        "outputId": "25f6bf1e-576a-42fe-ed06-533ccffa5388",
        "colab": {
          "base_uri": "https://localhost:8080/"
        }
      },
      "execution_count": null,
      "outputs": [
        {
          "output_type": "stream",
          "name": "stdout",
          "text": [
            "Confusion Matrix:\n",
            "[[24 24]\n",
            " [21 27]]\n",
            "Classification Report:\n",
            "              precision    recall  f1-score   support\n",
            "\n",
            "           0       0.53      0.50      0.52        48\n",
            "           1       0.53      0.56      0.55        48\n",
            "\n",
            "    accuracy                           0.53        96\n",
            "   macro avg       0.53      0.53      0.53        96\n",
            "weighted avg       0.53      0.53      0.53        96\n",
            "\n"
          ]
        }
      ]
    },
    {
      "cell_type": "code",
      "source": [
        "\n",
        "\n",
        "\n",
        "#--CNN Pre-trained Model--\n",
        "\n",
        "\n"
      ],
      "metadata": {
        "id": "YOR03y11Av9o"
      },
      "execution_count": 3,
      "outputs": []
    },
    {
      "cell_type": "code",
      "source": [
        "#My dataset is available in googledrive; so I am accessing my drive from colab\n",
        "from google.colab import drive\n",
        "drive.mount('/content/drive/', force_remount=True)\n",
        "#Once this is executed, you will see your drive appearing on the left hand side"
      ],
      "metadata": {
        "colab": {
          "base_uri": "https://localhost:8080/"
        },
        "id": "TTjgbp6pBTbK",
        "outputId": "50bc277b-e21c-4aa0-8602-cf3ad96768bf"
      },
      "execution_count": 4,
      "outputs": [
        {
          "output_type": "stream",
          "name": "stdout",
          "text": [
            "Mounted at /content/drive/\n"
          ]
        }
      ]
    },
    {
      "cell_type": "code",
      "source": [
        "# Define paths to the dataset\n",
        "train_dir = '/content/drive/MyDrive/ImageDst/Train'  # Update with your actual path\n",
        "test_dir = '/content/drive/MyDrive/ImageDst/Test'    # Update with your actual path"
      ],
      "metadata": {
        "id": "x6-MA-8cBoE3"
      },
      "execution_count": 5,
      "outputs": []
    },
    {
      "cell_type": "code",
      "source": [
        "import os\n",
        "print(len(os.listdir('/content/drive/MyDrive/ImageDst/Train/Urban')))\n",
        "print(len(os.listdir('/content/drive/MyDrive/ImageDst/Train/CountrySide')))\n",
        "print(len(os.listdir('/content/drive/MyDrive/ImageDst/Test/Urban')))\n",
        "print(len(os.listdir('/content/drive/MyDrive/ImageDst/Test/CountrySide')))"
      ],
      "metadata": {
        "colab": {
          "base_uri": "https://localhost:8080/"
        },
        "id": "hNN-NvrZBpfW",
        "outputId": "6421cce9-8c1a-47d3-b4bc-9c9ef31c3e80"
      },
      "execution_count": 6,
      "outputs": [
        {
          "output_type": "stream",
          "name": "stdout",
          "text": [
            "269\n",
            "246\n",
            "48\n",
            "48\n"
          ]
        }
      ]
    },
    {
      "cell_type": "code",
      "source": [
        "import tensorflow as tf\n",
        "from tensorflow.keras.preprocessing.image import ImageDataGenerator\n",
        "\n",
        "# Create ImageDataGenerator for training set\n",
        "train_datagen = ImageDataGenerator(\n",
        "    rescale=1./255,\n",
        "    validation_split=0.2  # Split 20% of the images for validation\n",
        ")\n",
        "\n",
        "# Load and prepare training data\n",
        "train_data = train_datagen.flow_from_directory(\n",
        "    train_dir,\n",
        "    target_size=(256,256),\n",
        "    batch_size=32,\n",
        "    class_mode='binary',  # 'binary' for binary classification (cats vs. dogs)\n",
        "    subset='training'  # Specify 'training' for the training set\n",
        ")\n",
        "\n",
        "# Create ImageDataGenerator for validation set\n",
        "validation_datagen = ImageDataGenerator(\n",
        "    rescale=1./255,\n",
        "    validation_split=0.2  # Note: Using the same validation split as in the training set\n",
        ")\n",
        "\n",
        "# Load and prepare validation data\n",
        "validation_data = validation_datagen.flow_from_directory(\n",
        "    train_dir,\n",
        "    target_size=(256,256),\n",
        "    batch_size=32,\n",
        "    class_mode='binary',\n",
        "    subset='validation'  # Specify 'validation' for the validation set\n",
        ")"
      ],
      "metadata": {
        "colab": {
          "base_uri": "https://localhost:8080/"
        },
        "id": "TGlCzGPzBumP",
        "outputId": "6ecda7cb-8f32-480d-a9d6-e23d4110d890"
      },
      "execution_count": 7,
      "outputs": [
        {
          "output_type": "stream",
          "name": "stdout",
          "text": [
            "Found 413 images belonging to 2 classes.\n",
            "Found 102 images belonging to 2 classes.\n"
          ]
        }
      ]
    },
    {
      "cell_type": "code",
      "source": [
        "from tensorflow import keras\n",
        "from keras import Sequential\n",
        "from keras.layers import Dense,Conv2D,MaxPooling2D,Flatten\n",
        "\n",
        "resnet_model = Sequential()    #ResNet50 is a pre-trained model\n",
        "pretrained_model = tf.keras.applications.ResNet50(include_top = False, #because i have my own image of a diff dimension\n",
        "                                                input_shape = (256,256,3),\n",
        "                                                pooling = 'max', classes = 2,\n",
        "                                                weights = 'imagenet')\n",
        "for layer in pretrained_model.layers:\n",
        "    layer.trainable = False  #all layers in the Resnet50 is not trainable; keep those weights; I am going to add my own i/p and other layers\n",
        "\n",
        "resnet_model.add(pretrained_model)\n",
        "resnet_model.add(Flatten())\n",
        "resnet_model.add(Dense(512, activation = 'relu'))\n",
        "resnet_model.add(Dense(1, activation = 'sigmoid'))"
      ],
      "metadata": {
        "colab": {
          "base_uri": "https://localhost:8080/"
        },
        "id": "71iE7wupBun3",
        "outputId": "0e71b86e-429f-4372-d292-4a0330fe6573"
      },
      "execution_count": 8,
      "outputs": [
        {
          "output_type": "stream",
          "name": "stdout",
          "text": [
            "Downloading data from https://storage.googleapis.com/tensorflow/keras-applications/resnet/resnet50_weights_tf_dim_ordering_tf_kernels_notop.h5\n",
            "94765736/94765736 [==============================] - 0s 0us/step\n"
          ]
        }
      ]
    },
    {
      "cell_type": "code",
      "source": [
        "resnet_model.summary()"
      ],
      "metadata": {
        "colab": {
          "base_uri": "https://localhost:8080/"
        },
        "id": "6HLguNEIBupw",
        "outputId": "0d09a675-9629-4690-e982-f0f0a1bd8b9d"
      },
      "execution_count": 9,
      "outputs": [
        {
          "output_type": "stream",
          "name": "stdout",
          "text": [
            "Model: \"sequential\"\n",
            "_________________________________________________________________\n",
            " Layer (type)                Output Shape              Param #   \n",
            "=================================================================\n",
            " resnet50 (Functional)       (None, 2048)              23587712  \n",
            "                                                                 \n",
            " flatten (Flatten)           (None, 2048)              0         \n",
            "                                                                 \n",
            " dense (Dense)               (None, 512)               1049088   \n",
            "                                                                 \n",
            " dense_1 (Dense)             (None, 1)                 513       \n",
            "                                                                 \n",
            "=================================================================\n",
            "Total params: 24637313 (93.98 MB)\n",
            "Trainable params: 1049601 (4.00 MB)\n",
            "Non-trainable params: 23587712 (89.98 MB)\n",
            "_________________________________________________________________\n"
          ]
        }
      ]
    },
    {
      "cell_type": "code",
      "source": [
        "from keras.optimizers import Adam\n",
        "resnet_model.compile(optimizer=Adam(learning_rate=0.001),\n",
        "                     loss='binary_crossentropy',metrics=['accuracy']) #binary_crossentropy - binary classification"
      ],
      "metadata": {
        "id": "Li7oMa83BusJ"
      },
      "execution_count": 10,
      "outputs": []
    },
    {
      "cell_type": "code",
      "source": [
        "history = resnet_model.fit(train_data, epochs=3, validation_data=validation_data)"
      ],
      "metadata": {
        "colab": {
          "base_uri": "https://localhost:8080/"
        },
        "id": "B0yyvwfIBuvA",
        "outputId": "2148b34e-9f5a-4bce-9aac-796a8391b9a5"
      },
      "execution_count": 11,
      "outputs": [
        {
          "output_type": "stream",
          "name": "stdout",
          "text": [
            "Epoch 1/3\n",
            "13/13 [==============================] - 221s 16s/step - loss: 2.4716 - accuracy: 0.5811 - val_loss: 1.0056 - val_accuracy: 0.6569\n",
            "Epoch 2/3\n",
            "13/13 [==============================] - 178s 13s/step - loss: 0.7631 - accuracy: 0.7046 - val_loss: 0.9380 - val_accuracy: 0.6471\n",
            "Epoch 3/3\n",
            "13/13 [==============================] - 158s 12s/step - loss: 0.5928 - accuracy: 0.7337 - val_loss: 0.3691 - val_accuracy: 0.8431\n"
          ]
        }
      ]
    },
    {
      "cell_type": "code",
      "source": [
        "import matplotlib.pyplot as plt\n",
        "\n",
        "plt.plot(history.history['accuracy'],color='red',label='train')\n",
        "plt.plot(history.history['val_accuracy'],color='blue',label='validation')\n",
        "plt.legend()\n",
        "plt.show()"
      ],
      "metadata": {
        "colab": {
          "base_uri": "https://localhost:8080/",
          "height": 430
        },
        "id": "RnnGPx_sBu0s",
        "outputId": "d5a3d425-773f-46e4-a5f2-5b769f480788"
      },
      "execution_count": 12,
      "outputs": [
        {
          "output_type": "display_data",
          "data": {
            "text/plain": [
              "<Figure size 640x480 with 1 Axes>"
            ],
            "image/png": "[encoded data removed]"
          },
          "metadata": {}
        }
      ]
    },
    {
      "cell_type": "code",
      "source": [
        "plt.plot(history.history['loss'],color='red',label='train')\n",
        "plt.plot(history.history['val_loss'],color='blue',label='validation')\n",
        "plt.legend()\n",
        "plt.show()"
      ],
      "metadata": {
        "colab": {
          "base_uri": "https://localhost:8080/",
          "height": 430
        },
        "id": "pyXMbPZGFnUg",
        "outputId": "1c7745e0-2c04-4f3d-be45-6f69995348d6"
      },
      "execution_count": 13,
      "outputs": [
        {
          "output_type": "display_data",
          "data": {
            "text/plain": [
              "<Figure size 640x480 with 1 Axes>"
            ],
            "image/png": "[encoded data removed]"
          },
          "metadata": {}
        }
      ]
    },
    {
      "cell_type": "code",
      "source": [
        "test_datagen = ImageDataGenerator(rescale=1./255)\n",
        "test_data = test_datagen.flow_from_directory(\n",
        "    test_dir,\n",
        "    target_size=(256,256),\n",
        "    batch_size=32,\n",
        "    class_mode='binary'\n",
        ")"
      ],
      "metadata": {
        "colab": {
          "base_uri": "https://localhost:8080/"
        },
        "id": "-9f1kh22FnXF",
        "outputId": "621a5762-fbdc-4be8-ea38-6898f0b10ada"
      },
      "execution_count": 14,
      "outputs": [
        {
          "output_type": "stream",
          "name": "stdout",
          "text": [
            "Found 96 images belonging to 2 classes.\n"
          ]
        }
      ]
    },
    {
      "cell_type": "code",
      "source": [
        "#predict the test data\n",
        "predictions = resnet_model.predict(test_data)\n",
        "print(predictions)"
      ],
      "metadata": {
        "colab": {
          "base_uri": "https://localhost:8080/"
        },
        "id": "bhaRhKujFnZr",
        "outputId": "70ba90b9-5eb7-48b5-84e2-9c320bde0dc5"
      },
      "execution_count": 15,
      "outputs": [
        {
          "output_type": "stream",
          "name": "stdout",
          "text": [
            "3/3 [==============================] - 48s 17s/step\n",
            "[[0.3948989 ]\n",
            " [0.17891017]\n",
            " [0.12070909]\n",
            " [0.30073848]\n",
            " [0.02795019]\n",
            " [0.02144829]\n",
            " [0.98347133]\n",
            " [0.989666  ]\n",
            " [0.66454935]\n",
            " [0.7649518 ]\n",
            " [0.0693846 ]\n",
            " [0.81191164]\n",
            " [0.1401522 ]\n",
            " [0.01353617]\n",
            " [0.96779454]\n",
            " [0.6993785 ]\n",
            " [0.10505373]\n",
            " [0.9774225 ]\n",
            " [0.23061517]\n",
            " [0.01583122]\n",
            " [0.0637435 ]\n",
            " [0.46906534]\n",
            " [0.93109596]\n",
            " [0.51632506]\n",
            " [0.9090653 ]\n",
            " [0.6534447 ]\n",
            " [0.01111009]\n",
            " [0.07098243]\n",
            " [0.13869198]\n",
            " [0.99999815]\n",
            " [0.02127297]\n",
            " [0.62291217]\n",
            " [0.18293355]\n",
            " [0.43572223]\n",
            " [0.02016508]\n",
            " [0.5588603 ]\n",
            " [0.03221643]\n",
            " [0.9355965 ]\n",
            " [0.09131626]\n",
            " [0.7672954 ]\n",
            " [0.960428  ]\n",
            " [0.08619038]\n",
            " [0.31437156]\n",
            " [0.05605758]\n",
            " [0.02176681]\n",
            " [0.081747  ]\n",
            " [0.36395365]\n",
            " [0.55683553]\n",
            " [0.9558619 ]\n",
            " [0.6004473 ]\n",
            " [0.07205803]\n",
            " [0.10273062]\n",
            " [0.99781805]\n",
            " [0.0991096 ]\n",
            " [0.25370052]\n",
            " [0.05730602]\n",
            " [0.79217577]\n",
            " [0.19267948]\n",
            " [0.39475438]\n",
            " [0.10607123]\n",
            " [0.9903813 ]\n",
            " [0.9934986 ]\n",
            " [0.34258842]\n",
            " [0.14980745]\n",
            " [0.02742055]\n",
            " [0.03523437]\n",
            " [0.08252485]\n",
            " [0.9941531 ]\n",
            " [0.20158823]\n",
            " [0.2472104 ]\n",
            " [0.5600944 ]\n",
            " [0.68875194]\n",
            " [0.27288318]\n",
            " [0.43870446]\n",
            " [0.999842  ]\n",
            " [0.9980635 ]\n",
            " [0.08573543]\n",
            " [0.97688496]\n",
            " [0.6224877 ]\n",
            " [0.01888398]\n",
            " [0.98067045]\n",
            " [0.20434672]\n",
            " [0.88528794]\n",
            " [0.33026403]\n",
            " [0.0247247 ]\n",
            " [0.99870604]\n",
            " [0.15446164]\n",
            " [0.08807088]\n",
            " [0.40957573]\n",
            " [0.86333054]\n",
            " [0.15539502]\n",
            " [0.10303555]\n",
            " [0.9808704 ]\n",
            " [0.9998504 ]\n",
            " [0.88555354]\n",
            " [0.40690988]]\n"
          ]
        }
      ]
    },
    {
      "cell_type": "code",
      "source": [
        "len(predictions)"
      ],
      "metadata": {
        "colab": {
          "base_uri": "https://localhost:8080/"
        },
        "id": "MJIRb_7BF-hH",
        "outputId": "f3d190e0-aa73-4e6e-f445-70d0d6714d42"
      },
      "execution_count": 16,
      "outputs": [
        {
          "output_type": "execute_result",
          "data": {
            "text/plain": [
              "96"
            ]
          },
          "metadata": {},
          "execution_count": 16
        }
      ]
    },
    {
      "cell_type": "code",
      "source": [
        "from sklearn.metrics import confusion_matrix, classification_report\n",
        "\n",
        "# Assuming you have ground truth labels (true_labels) and predicted labels (predictions)\n",
        "true_labels = test_data.classes\n",
        "predicted_labels = (predictions > 0.5).astype(int)  # Adjust the threshold as needed\n",
        "\n",
        "# Calculate confusion matrix\n",
        "cm = confusion_matrix(true_labels, predicted_labels)\n",
        "\n",
        "# Print confusion matrix\n",
        "print(\"Confusion Matrix:\")\n",
        "print(cm)\n",
        "\n",
        "# Print classification report\n",
        "print(\"Classification Report:\")\n",
        "print(classification_report(true_labels, predicted_labels))"
      ],
      "metadata": {
        "colab": {
          "base_uri": "https://localhost:8080/"
        },
        "id": "E5AyZ4BrF-jv",
        "outputId": "166fb700-112f-476a-d303-04dfd1d5dc1b"
      },
      "execution_count": 17,
      "outputs": [
        {
          "output_type": "stream",
          "name": "stdout",
          "text": [
            "Confusion Matrix:\n",
            "[[29 19]\n",
            " [28 20]]\n",
            "Classification Report:\n",
            "              precision    recall  f1-score   support\n",
            "\n",
            "           0       0.51      0.60      0.55        48\n",
            "           1       0.51      0.42      0.46        48\n",
            "\n",
            "    accuracy                           0.51        96\n",
            "   macro avg       0.51      0.51      0.51        96\n",
            "weighted avg       0.51      0.51      0.51        96\n",
            "\n"
          ]
        }
      ]
    }
  ]
}